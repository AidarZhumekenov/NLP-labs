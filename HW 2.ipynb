{
  "nbformat": 4,
  "nbformat_minor": 0,
  "metadata": {
    "colab": {
      "name": "Untitled4.ipynb",
      "provenance": [],
      "authorship_tag": "ABX9TyNW/TfIwnvWIr4aEdoqdQP8",
      "include_colab_link": true
    },
    "kernelspec": {
      "name": "python3",
      "display_name": "Python 3"
    },
    "widgets": {
      "application/vnd.jupyter.widget-state+json": {
        "6b66e1651c234d4a801c343f45d7b351": {
          "model_module": "@jupyter-widgets/controls",
          "model_name": "ButtonModel",
          "state": {
            "_view_name": "ButtonView",
            "style": "IPY_MODEL_1aafd40ccee346ce996e62fbc84b9930",
            "_dom_classes": [],
            "description": "Draw",
            "_model_name": "ButtonModel",
            "button_style": "",
            "_view_module": "@jupyter-widgets/controls",
            "_model_module_version": "1.5.0",
            "tooltip": "",
            "_view_count": null,
            "disabled": false,
            "_view_module_version": "1.5.0",
            "layout": "IPY_MODEL_963a9bb9b1b44dd88159760d4f9bf22f",
            "_model_module": "@jupyter-widgets/controls",
            "icon": ""
          }
        },
        "1aafd40ccee346ce996e62fbc84b9930": {
          "model_module": "@jupyter-widgets/controls",
          "model_name": "ButtonStyleModel",
          "state": {
            "_view_name": "StyleView",
            "_model_name": "ButtonStyleModel",
            "_view_module": "@jupyter-widgets/base",
            "_model_module_version": "1.5.0",
            "_view_count": null,
            "button_color": null,
            "font_weight": "",
            "_view_module_version": "1.2.0",
            "_model_module": "@jupyter-widgets/controls"
          }
        },
        "963a9bb9b1b44dd88159760d4f9bf22f": {
          "model_module": "@jupyter-widgets/base",
          "model_name": "LayoutModel",
          "state": {
            "_view_name": "LayoutView",
            "grid_template_rows": null,
            "right": null,
            "justify_content": null,
            "_view_module": "@jupyter-widgets/base",
            "overflow": null,
            "_model_module_version": "1.2.0",
            "_view_count": null,
            "flex_flow": null,
            "width": null,
            "min_width": null,
            "border": null,
            "align_items": null,
            "bottom": null,
            "_model_module": "@jupyter-widgets/base",
            "top": null,
            "grid_column": null,
            "overflow_y": null,
            "overflow_x": null,
            "grid_auto_flow": null,
            "grid_area": null,
            "grid_template_columns": null,
            "flex": null,
            "_model_name": "LayoutModel",
            "justify_items": null,
            "grid_row": null,
            "max_height": null,
            "align_content": null,
            "visibility": null,
            "align_self": null,
            "height": null,
            "min_height": null,
            "padding": null,
            "grid_auto_rows": null,
            "grid_gap": null,
            "max_width": null,
            "order": null,
            "_view_module_version": "1.2.0",
            "grid_template_areas": null,
            "object_position": null,
            "object_fit": null,
            "grid_auto_columns": null,
            "margin": null,
            "display": null,
            "left": null
          }
        },
        "7964dd128cbf4ff394d365484c5feb64": {
          "model_module": "@jupyter-widgets/controls",
          "model_name": "TextModel",
          "state": {
            "_view_name": "TextView",
            "style": "IPY_MODEL_b3f696aa05c746839d70eabfda7c85a8",
            "_dom_classes": [],
            "description": "String:",
            "_model_name": "TextModel",
            "placeholder": "Query",
            "_view_module": "@jupyter-widgets/controls",
            "_model_module_version": "1.5.0",
            "value": "МАТЬ",
            "_view_count": null,
            "disabled": false,
            "_view_module_version": "1.5.0",
            "continuous_update": true,
            "description_tooltip": null,
            "_model_module": "@jupyter-widgets/controls",
            "layout": "IPY_MODEL_3e2795b32a374c5384264e24b064fb58"
          }
        },
        "b3f696aa05c746839d70eabfda7c85a8": {
          "model_module": "@jupyter-widgets/controls",
          "model_name": "DescriptionStyleModel",
          "state": {
            "_view_name": "StyleView",
            "_model_name": "DescriptionStyleModel",
            "description_width": "",
            "_view_module": "@jupyter-widgets/base",
            "_model_module_version": "1.5.0",
            "_view_count": null,
            "_view_module_version": "1.2.0",
            "_model_module": "@jupyter-widgets/controls"
          }
        },
        "3e2795b32a374c5384264e24b064fb58": {
          "model_module": "@jupyter-widgets/base",
          "model_name": "LayoutModel",
          "state": {
            "_view_name": "LayoutView",
            "grid_template_rows": null,
            "right": null,
            "justify_content": null,
            "_view_module": "@jupyter-widgets/base",
            "overflow": null,
            "_model_module_version": "1.2.0",
            "_view_count": null,
            "flex_flow": null,
            "width": null,
            "min_width": null,
            "border": null,
            "align_items": null,
            "bottom": null,
            "_model_module": "@jupyter-widgets/base",
            "top": null,
            "grid_column": null,
            "overflow_y": null,
            "overflow_x": null,
            "grid_auto_flow": null,
            "grid_area": null,
            "grid_template_columns": null,
            "flex": null,
            "_model_name": "LayoutModel",
            "justify_items": null,
            "grid_row": null,
            "max_height": null,
            "align_content": null,
            "visibility": null,
            "align_self": null,
            "height": null,
            "min_height": null,
            "padding": null,
            "grid_auto_rows": null,
            "grid_gap": null,
            "max_width": null,
            "order": null,
            "_view_module_version": "1.2.0",
            "grid_template_areas": null,
            "object_position": null,
            "object_fit": null,
            "grid_auto_columns": null,
            "margin": null,
            "display": null,
            "left": null
          }
        }
      }
    }
  },
  "cells": [
    {
      "cell_type": "markdown",
      "metadata": {
        "id": "view-in-github",
        "colab_type": "text"
      },
      "source": [
        "<a href=\"https://colab.research.google.com/github/AidarZhumekenov/NLP-labs/blob/master/HW%202.ipynb\" target=\"_parent\"><img src=\"https://colab.research.google.com/assets/colab-badge.svg\" alt=\"Open In Colab\"/></a>"
      ]
    },
    {
      "cell_type": "code",
      "metadata": {
        "id": "uea2TySK1_VD",
        "colab_type": "code",
        "colab": {
          "base_uri": "https://localhost:8080/",
          "height": 153
        },
        "outputId": "75335c68-4280-4dba-9b27-3775473fb458"
      },
      "source": [
        "!pip install wikipedia\n",
        "import pandas as pd\n",
        "import wikipedia\n",
        "import os\n",
        "from tqdm import tqdm\n",
        "from joblib import Parallel, delayed\n",
        "import multiprocessing\n",
        "import networkx as nx\n",
        "import matplotlib.pyplot as plt\n",
        "from collections import defaultdict\n",
        "from ipywidgets import interact, interactive, fixed, interact_manual,widgets\n",
        "from IPython.display import display\n",
        "import json\n",
        "num_cores = multiprocessing.cpu_count()\n",
        "print(num_cores)\n",
        "wikipedia.set_lang(\"ru\")\n",
        "# DATA_PATH_LIST = ['D:','src2','taxonomy-enrichment','data','training_data']\n",
        "DATA_PATH_LIST = ['.']\n",
        "EMBEDDING_MODEL_FILENAME = \"wiki_node2vec.bin\"\n",
        "DATA_PATH=\"/\".join(DATA_PATH_LIST+[\"../content/training_nouns.tsv\"])\n",
        "df = pd.read_csv(DATA_PATH,sep='\\t')\n",
        "%matplotlib inline"
      ],
      "execution_count": 6,
      "outputs": [
        {
          "output_type": "stream",
          "text": [
            "Requirement already satisfied: wikipedia in /usr/local/lib/python3.6/dist-packages (1.4.0)\n",
            "Requirement already satisfied: beautifulsoup4 in /usr/local/lib/python3.6/dist-packages (from wikipedia) (4.6.3)\n",
            "Requirement already satisfied: requests<3.0.0,>=2.0.0 in /usr/local/lib/python3.6/dist-packages (from wikipedia) (2.21.0)\n",
            "Requirement already satisfied: urllib3<1.25,>=1.21.1 in /usr/local/lib/python3.6/dist-packages (from requests<3.0.0,>=2.0.0->wikipedia) (1.24.3)\n",
            "Requirement already satisfied: chardet<3.1.0,>=3.0.2 in /usr/local/lib/python3.6/dist-packages (from requests<3.0.0,>=2.0.0->wikipedia) (3.0.4)\n",
            "Requirement already satisfied: certifi>=2017.4.17 in /usr/local/lib/python3.6/dist-packages (from requests<3.0.0,>=2.0.0->wikipedia) (2019.11.28)\n",
            "Requirement already satisfied: idna<2.9,>=2.5 in /usr/local/lib/python3.6/dist-packages (from requests<3.0.0,>=2.0.0->wikipedia) (2.8)\n",
            "2\n"
          ],
          "name": "stdout"
        }
      ]
    },
    {
      "cell_type": "code",
      "metadata": {
        "id": "-nDdrFj32xr5",
        "colab_type": "code",
        "colab": {}
      },
      "source": [
        "def prestr(x):\n",
        "    return str(x).replace('\\\"','').replace(\"'\",'\"')"
      ],
      "execution_count": 0,
      "outputs": []
    },
    {
      "cell_type": "code",
      "metadata": {
        "id": "oep96mQs21NW",
        "colab_type": "code",
        "colab": {}
      },
      "source": [
        "class DefDict(defaultdict):\n",
        "    def __missing__(self, key):\n",
        "        self[key] = key\n",
        "        return key\n",
        "    \n",
        "idx2syns = DefDict(lambda x:x)\n",
        "for val in df.values:\n",
        "    idx2syns[val[0]]=val[1]\n",
        "    try:\n",
        "        pidxs = json.loads(prestr(val[2]))\n",
        "        concp = [el.split(\",\")[0] for el in json.loads(prestr(val[3]))]\n",
        "        idx2syns.update(dict(zip(pidxs,concp)))\n",
        "    except:\n",
        "        print(prestr(val[2]))\n",
        "        print(prestr(val[3]))"
      ],
      "execution_count": 0,
      "outputs": []
    },
    {
      "cell_type": "code",
      "metadata": {
        "id": "JnWdaeBB24kH",
        "colab_type": "code",
        "colab": {
          "base_uri": "https://localhost:8080/",
          "height": 82,
          "referenced_widgets": [
            "6b66e1651c234d4a801c343f45d7b351",
            "1aafd40ccee346ce996e62fbc84b9930",
            "963a9bb9b1b44dd88159760d4f9bf22f",
            "7964dd128cbf4ff394d365484c5feb64",
            "b3f696aa05c746839d70eabfda7c85a8",
            "3e2795b32a374c5384264e24b064fb58"
          ]
        },
        "outputId": "0cb29807-69ee-4211-e521-3c07bf7a3f1c"
      },
      "source": [
        "#Interactive visualization of hyponyms and hypernyms\n",
        "button = widgets.Button(description=\"Draw\")\n",
        "query = widgets.Text(\n",
        "    value='МАТЬ',\n",
        "    placeholder='Query',\n",
        "    description='String:',\n",
        "    disabled=False\n",
        ")\n",
        "display(button,query)\n",
        "\n",
        "\n",
        "\n",
        "\n",
        "def creategraph(df):\n",
        "    res = []\n",
        "    for row in df.values:\n",
        "        cohyps = row[1].split(\",\")\n",
        "        for idx,cohyp in enumerate(cohyps):\n",
        "            for parent in json.loads(prestr(row[2])):\n",
        "                res.append((row[0]+'-'+str(idx),parent))\n",
        "    return res\n",
        "\n",
        "def graphdraw(b):\n",
        "    print(\"graphdraw\",query.value)\n",
        "    subset = df[df['TEXT'].str.contains(query.value.upper())]\n",
        "    g = nx.DiGraph()\n",
        "    for el in subset.values:\n",
        "        cohyps = el[1].split(\",\")\n",
        "        print(cohyps)\n",
        "        syns = idx2syns[el[0]]\n",
        "        for child in cohyps:\n",
        "            for parent in json.loads(prestr(el[2])):\n",
        "                ed = g.add_edge(child,idx2syns[parent],label=\"is a\")\n",
        "            \n",
        "    plt.figure(figsize=(15,15))\n",
        "    pos = nx.nx_agraph.graphviz_layout(g)\n",
        "    nx.draw(g,with_labels=True,pos=pos)\n",
        "#     edge_labels=nx.draw_networkx_edge_labels(g,pos=pos)\n",
        "    plt.show()\n",
        "button.on_click(graphdraw)"
      ],
      "execution_count": 9,
      "outputs": [
        {
          "output_type": "display_data",
          "data": {
            "application/vnd.jupyter.widget-view+json": {
              "model_id": "6b66e1651c234d4a801c343f45d7b351",
              "version_minor": 0,
              "version_major": 2
            },
            "text/plain": [
              "Button(description='Draw', style=ButtonStyle())"
            ]
          },
          "metadata": {
            "tags": []
          }
        },
        {
          "output_type": "display_data",
          "data": {
            "application/vnd.jupyter.widget-view+json": {
              "model_id": "7964dd128cbf4ff394d365484c5feb64",
              "version_minor": 0,
              "version_major": 2
            },
            "text/plain": [
              "Text(value='МАТЬ', description='String:', placeholder='Query')"
            ]
          },
          "metadata": {
            "tags": []
          }
        }
      ]
    },
    {
      "cell_type": "code",
      "metadata": {
        "id": "2amdk-0N2704",
        "colab_type": "code",
        "colab": {
          "base_uri": "https://localhost:8080/",
          "height": 411
        },
        "outputId": "54e22387-b73e-4eaf-8d04-8f3e7e5cdbad"
      },
      "source": [
        "#Pattern extractor\n",
        "#Yargy — библиотека для извлечения структурированной информации из текстов на русском языке. Правила описываются контекстно-свободными грамматиками и словарями ключевых слов. Банк готовых правил для имён, дат, адресов и других сущностей доступен в репозитории Natasha.\n",
        "\n",
        "#https://yargy.readthedocs.io/ru/latest/\n",
        "#http://pymorphy2.readthedocs.io/en/latest/user/grammemes.html\n",
        "#https://github.com/natasha/natasha\n",
        "#Токенизатор\n",
        "!pip install Yargy\n",
        "from yargy.tokenizer import MorphTokenizer\n",
        "\n",
        "\n",
        "tokenizer = MorphTokenizer()\n",
        "text = '''Ростов-на-Дону\n",
        "Длительностью 18ч. 10мин.\n",
        "Яндекс.Такси\n",
        "π ≈ 3.1415\n",
        "1 500 000$\n",
        "http://vk.com\n",
        "'''\n",
        "for line in text.splitlines():\n",
        "    print([_.value for _ in tokenizer(line)])"
      ],
      "execution_count": 11,
      "outputs": [
        {
          "output_type": "stream",
          "text": [
            "Collecting Yargy\n",
            "\u001b[?25l  Downloading https://files.pythonhosted.org/packages/37/64/d6abf637228bed6b0249b522f588d19dca9f09ab65db13bef41096f51889/yargy-0.12.0-py2.py3-none-any.whl (41kB)\n",
            "\u001b[K     |████████████████████████████████| 51kB 2.9MB/s \n",
            "\u001b[?25hCollecting backports.functools-lru-cache==1.3\n",
            "  Downloading https://files.pythonhosted.org/packages/d4/40/0b1db94fdfd71353ae67ec444ff28e0a7ecc25212d1cb94c291b6cd226f9/backports.functools_lru_cache-1.3-py2.py3-none-any.whl\n",
            "Collecting pymorphy2==0.8\n",
            "\u001b[?25l  Downloading https://files.pythonhosted.org/packages/a3/33/fff9675c68b5f6c63ec8c6e6ff57827dda28a1fa5b2c2d727dffff92dd47/pymorphy2-0.8-py2.py3-none-any.whl (46kB)\n",
            "\u001b[K     |████████████████████████████████| 51kB 7.8MB/s \n",
            "\u001b[?25hCollecting pymorphy2-dicts<3.0,>=2.4\n",
            "\u001b[?25l  Downloading https://files.pythonhosted.org/packages/02/51/2465fd4f72328ab50877b54777764d928da8cb15b74e2680fc1bd8cb3173/pymorphy2_dicts-2.4.393442.3710985-py2.py3-none-any.whl (7.1MB)\n",
            "\u001b[K     |████████████████████████████████| 7.1MB 34.5MB/s \n",
            "\u001b[?25hCollecting dawg-python>=0.7\n",
            "  Downloading https://files.pythonhosted.org/packages/6a/84/ff1ce2071d4c650ec85745766c0047ccc3b5036f1d03559fd46bb38b5eeb/DAWG_Python-0.7.2-py2.py3-none-any.whl\n",
            "Requirement already satisfied: docopt>=0.6 in /usr/local/lib/python3.6/dist-packages (from pymorphy2==0.8->Yargy) (0.6.2)\n",
            "Installing collected packages: backports.functools-lru-cache, pymorphy2-dicts, dawg-python, pymorphy2, Yargy\n",
            "Successfully installed Yargy-0.12.0 backports.functools-lru-cache-1.3 dawg-python-0.7.2 pymorphy2-0.8 pymorphy2-dicts-2.4.393442.3710985\n",
            "['Ростов', '-', 'на', '-', 'Дону']\n",
            "['Длительностью', '18', 'ч', '.', '10', 'мин', '.']\n",
            "['Яндекс', '.', 'Такси']\n",
            "['π', '≈', '3', '.', '1415']\n",
            "['1', '500', '000', '$']\n",
            "['http', ':', '/', '/', 'vk', '.', 'com']\n"
          ],
          "name": "stdout"
        }
      ]
    },
    {
      "cell_type": "code",
      "metadata": {
        "id": "Ke7c9UwD2_IB",
        "colab_type": "code",
        "colab": {}
      },
      "source": [
        "#Газеттир\n",
        "#Газеттир нужен для удобной работы с последовательностью слов. Например, можно написать\n",
        "from yargy import or_, rule\n",
        "from yargy.predicates import normalized\n",
        "\n",
        "RULE = or_(\n",
        "    rule(normalized('dvd'), '-', normalized('диск')),\n",
        "    rule(normalized('видео'), normalized('файл'))\n",
        ")"
      ],
      "execution_count": 0,
      "outputs": []
    },
    {
      "cell_type": "code",
      "metadata": {
        "id": "bcT4joTS3CUI",
        "colab_type": "code",
        "colab": {
          "base_uri": "https://localhost:8080/",
          "height": 51
        },
        "outputId": "4b1ff9ac-8013-4f29-eebd-d6740191106f"
      },
      "source": [
        "from yargy import Parser\n",
        "from yargy.pipelines import morph_pipeline\n",
        "\n",
        "\n",
        "RULE = morph_pipeline([\n",
        "    'dvd-диск',\n",
        "    'видео файл',\n",
        "    'видеофильм',\n",
        "    'газета',\n",
        "    'электронный дневник',\n",
        "    'эссе',\n",
        "])\n",
        "\n",
        "parser = Parser(RULE)\n",
        "text = 'Видео файл на dvd-диске'\n",
        "for match in parser.findall(text):\n",
        "    print([_.value for _ in match.tokens])"
      ],
      "execution_count": 13,
      "outputs": [
        {
          "output_type": "stream",
          "text": [
            "['Видео', 'файл']\n",
            "['dvd', '-', 'диске']\n"
          ],
          "name": "stdout"
        }
      ]
    },
    {
      "cell_type": "code",
      "metadata": {
        "id": "mSP1rK-v3FPE",
        "colab_type": "code",
        "colab": {
          "base_uri": "https://localhost:8080/",
          "height": 51
        },
        "outputId": "d8610c73-cca0-4efd-f67f-6de0aaebd7ce"
      },
      "source": [
        "from yargy import Parser, rule, and_\n",
        "from yargy.predicates import gram, is_capitalized, dictionary\n",
        "\n",
        "\n",
        "GEO = rule(\n",
        "    and_(\n",
        "        gram('ADJF'),  # так помечается прилагательное, остальные пометки описаны в\n",
        "                       # http://pymorphy2.readthedocs.io/en/latest/user/grammemes.html\n",
        "        is_capitalized()\n",
        "    ),\n",
        "    gram('ADJF').optional().repeatable(),\n",
        "    dictionary({\n",
        "        'федерация',\n",
        "        'республика'\n",
        "    })\n",
        ")\n",
        "\n",
        "\n",
        "parser = Parser(GEO)\n",
        "text = '''\n",
        "В Чеченской республике на день рождения ...\n",
        "Донецкая народная республика провозгласила ...\n",
        "Башня Федерация — одна из самых высоких ...\n",
        "'''\n",
        "for match in parser.findall(text):\n",
        "    print([_.value for _ in match.tokens])"
      ],
      "execution_count": 14,
      "outputs": [
        {
          "output_type": "stream",
          "text": [
            "['Чеченской', 'республике']\n",
            "['Донецкая', 'народная', 'республика']\n"
          ],
          "name": "stdout"
        }
      ]
    },
    {
      "cell_type": "code",
      "metadata": {
        "id": "e-Dm0xjm3IXh",
        "colab_type": "code",
        "colab": {
          "base_uri": "https://localhost:8080/",
          "height": 51
        },
        "outputId": "31aed816-3531-45ec-997c-3e87662a7585"
      },
      "source": [
        "#Предикаты\n",
        "#Предикат — функция, которая принимает на вход токен и возвращает True или False. В Yargy встроено много готовых предикатов. Полный список есть в справочнике. Предикаты комбинируются с помощью and, or и not_.\n",
        "from yargy import and_, not_\n",
        "from yargy.tokenizer import MorphTokenizer\n",
        "from yargy.predicates import is_capitalized, eq\n",
        "\n",
        "\n",
        "tokenizer = MorphTokenizer()\n",
        "token = next(tokenizer('Стали'))\n",
        "\n",
        "predicate = is_capitalized()\n",
        "print(predicate(token))\n",
        "\n",
        "predicate = and_(\n",
        "    is_capitalized(),\n",
        "    not_(eq('марки'))\n",
        ")\n",
        "print(predicate(token))"
      ],
      "execution_count": 15,
      "outputs": [
        {
          "output_type": "stream",
          "text": [
            "True\n",
            "True\n"
          ],
          "name": "stdout"
        }
      ]
    },
    {
      "cell_type": "code",
      "metadata": {
        "id": "0RGu8_3k3wTR",
        "colab_type": "code",
        "colab": {
          "base_uri": "https://localhost:8080/",
          "height": 68
        },
        "outputId": "21839f0e-1019-48c9-a6fd-47f46343ee8f"
      },
      "source": [
        "#Грамматики\n",
        "#В Yargy используется специальный DSL для описания грамматик. Любую контекстно-свободную грамматику можно описать с помощью конструкций Питона. Например, есть примитивная грамматика для размеров одежды:\n",
        "#KEY -> р. | размер\n",
        "#VALUE -> S | M | L\n",
        "#SIZE -> KEY VALUE\n",
        "\n",
        "from yargy import rule, or_\n",
        "\n",
        "\n",
        "KEY = or_(\n",
        "    rule('р', '.'),\n",
        "    rule('размер')\n",
        ").named('KEY')\n",
        "VALUE = or_(\n",
        "    rule('S'),\n",
        "    rule('M'),\n",
        "    rule('L'),\n",
        "    rule('XS'),\n",
        ").named('VALUE')\n",
        "SIZE = rule(\n",
        "    KEY,\n",
        "    VALUE\n",
        ").named('SIZE')\n",
        "SIZE.normalized.as_bnf"
      ],
      "execution_count": 16,
      "outputs": [
        {
          "output_type": "execute_result",
          "data": {
            "text/plain": [
              "SIZE -> KEY VALUE\n",
              "KEY -> 'р' '.' | 'размер'\n",
              "VALUE -> 'S' | 'M' | 'L' | 'XS'\n"
            ]
          },
          "metadata": {
            "tags": []
          },
          "execution_count": 16
        }
      ]
    },
    {
      "cell_type": "code",
      "metadata": {
        "id": "BBStlPZ938A1",
        "colab_type": "code",
        "colab": {
          "base_uri": "https://localhost:8080/",
          "height": 51
        },
        "outputId": "42e51a9f-6bea-4e95-f7b5-4f8a7f871d98"
      },
      "source": [
        "parser = Parser(\n",
        "    SIZE\n",
        ")\n",
        "text = 'размер M; размер A; размер XS;'\n",
        "for match in parser.findall(text):\n",
        "    print([_.value for _ in match.tokens])"
      ],
      "execution_count": 17,
      "outputs": [
        {
          "output_type": "stream",
          "text": [
            "['размер', 'M']\n",
            "['размер', 'XS']\n"
          ],
          "name": "stdout"
        }
      ]
    },
    {
      "cell_type": "code",
      "metadata": {
        "id": "RTIfDu1P3-v_",
        "colab_type": "code",
        "colab": {}
      },
      "source": [
        "from yargy import Parser, rule, and_, or_, not_\n",
        "from yargy.interpretation import fact, attribute\n",
        "from yargy.predicates import gram, is_capitalized, dictionary, eq\n",
        "import re\n",
        "import pandas as pd\n",
        "from tqdm import tqdm_notebook\n",
        "from gensim import utils"
      ],
      "execution_count": 0,
      "outputs": []
    },
    {
      "cell_type": "code",
      "metadata": {
        "id": "vxSB_N0W4DA6",
        "colab_type": "code",
        "colab": {}
      },
      "source": [
        "START = rule(\n",
        "    or_(\n",
        "        rule(gram('ADJF')),\n",
        "        rule(gram('NOUN'))\n",
        "    ).optional(),\n",
        "    gram('NOUN')\n",
        ")\n",
        "\n",
        "START_S = or_(\n",
        "    eq('такой'),\n",
        "    eq('такие'),\n",
        ")\n",
        "\n",
        "KAK = eq('как')\n",
        "INCLUDING = or_(\n",
        "    or_(\n",
        "        eq('в'),\n",
        "        eq('том'),\n",
        "        eq('числе'),\n",
        "    ),\n",
        "    eq('включающий'),\n",
        "    or_(\n",
        "        eq('включающий'),\n",
        "        eq('в'),\n",
        "        eq('себя'),\n",
        "    ),\n",
        "    or_(\n",
        "        eq('включающие'),\n",
        "        eq('в'),\n",
        "        eq('себя'),\n",
        "    ),\n",
        "    eq('включающие'),\n",
        "    eq('особенно'),\n",
        "\n",
        ")\n",
        "\n",
        "MID_S = or_(\n",
        "    rule(\n",
        "        or_(\n",
        "            eq('такой'),\n",
        "            eq('такие'),\n",
        "        ),\n",
        "        eq('как')\n",
        "    )\n",
        ")\n",
        "ATAKJE = rule(\n",
        "    eq(','),\n",
        "    eq('а'),\n",
        "    eq('также')\n",
        ")\n",
        "\n",
        "MID = or_(\n",
        "    rule(\n",
        "        eq('это')\n",
        "    ),\n",
        "    rule(\n",
        "        eq('—')\n",
        "    ),\n",
        "    rule(\n",
        "        eq('—'),\n",
        "        eq('это')\n",
        "    ),\n",
        "    rule(\n",
        "        eq('—'),\n",
        "        not_(eq('км'))\n",
        "    ),\n",
        "    rule(\n",
        "        or_(\n",
        "            eq('и'),\n",
        "            eq('или'),\n",
        "        ),\n",
        "        eq('другие')\n",
        "    )\n",
        ")\n",
        "\n",
        "END = or_(\n",
        "    rule(\n",
        "        gram('NOUN'),\n",
        "        gram('NOUN')\n",
        "    ),\n",
        "    rule(\n",
        "        gram('ADJF').repeatable(),\n",
        "        gram('NOUN')\n",
        "    ),\n",
        "    rule(\n",
        "        gram('ADJF'),\n",
        "        gram('ADJF').repeatable(),\n",
        "        gram('NOUN')\n",
        "    ),\n",
        "    rule(\n",
        "        gram('NOUN').repeatable(),\n",
        "        gram('ADJF'),\n",
        "        gram('NOUN').repeatable()\n",
        "    ),\n",
        "    rule(\n",
        "        gram('NOUN').repeatable()\n",
        "    )\n",
        ")\n",
        "\n",
        "Item = fact(\n",
        "    'Item',\n",
        "    [attribute('titles').repeatable()]\n",
        ")\n",
        "\n",
        "\n",
        "IGNORE = rule(\n",
        "    '(',\n",
        "    not_(eq(')')).repeatable(),\n",
        "    ')'\n",
        ")\n",
        "\n",
        "ITEM = rule(\n",
        "    IGNORE.interpretation(\n",
        "        Item.titles\n",
        "    ),\n",
        "    eq(',').optional() \n",
        ").repeatable().interpretation(\n",
        "    Item\n",
        ")"
      ],
      "execution_count": 0,
      "outputs": []
    },
    {
      "cell_type": "code",
      "metadata": {
        "id": "QW8eP3Z64Gnc",
        "colab_type": "code",
        "colab": {}
      },
      "source": [
        "def get_hyperonyms(main_word):\n",
        "    HYPONYM = eq(utils.deaccent(main_word))\n",
        "    RULE = or_(\n",
        "        rule(HYPONYM, ATAKJE, START, MID, END),\n",
        "        rule(HYPONYM, MID, END),\n",
        "        rule(START_S, END, KAK, HYPONYM),\n",
        "        rule(END, INCLUDING, HYPONYM)\n",
        "    )\n",
        "    parser = Parser(RULE) \n",
        "    text = utils.deaccent(wikipedia.summary(main_word))\n",
        "    print(text)\n",
        "    text = re.sub(r'\\(.+?\\)', '', text)\n",
        "    text = text.lower().replace('* сергии радонежскии* ', '')\n",
        "    for idx, match in enumerate(parser.findall(text.lower())):\n",
        "        k = [_.value for _ in match.tokens]\n",
        "        print(k)"
      ],
      "execution_count": 0,
      "outputs": []
    },
    {
      "cell_type": "markdown",
      "metadata": {
        "id": "4szCYlly4NQZ",
        "colab_type": "text"
      },
      "source": [
        "Task 1 (deadline 19.02.2020 24:00)\n",
        "Find your name on the spreadsheet https://docs.google.com/spreadsheets/d/1RR2I6toCkebbGU1UK83HS70Ru_l0_o-nnZIHyiFB0No/edit?usp=sharing. In opposite of your name there are 24 words of hyponyms, you have to insert five corresponding hypernyms next to them. Examples of hyponyms and hyperonyms relationship you can find above in the current Jupiter notebook.\n",
        "Find for each pair of hyponyms and hypernyms a corresponding snippet of a text with their mentions. The source of the text can be any free resources, e.g., Wikipedia, Google, Yandex, others. You should save the snippets and their URLs within the lab2 folder in your NLP git-repo with .csv file-extension in a single file.\n",
        "\n",
        "Task 2 (deadline 26.02.2020 24:00)\n",
        "It would be best if you created a pandas DataFrame of the texts from the previous task. And apply to the DataFrame the function 'get_hyperonyms,' which must return the list of the corresponding hypernyms from the text automatically. If there are errors or misses, you should fix them in the code for your case of the 24 words. Nevertheless, it is strictly prohibited to use hard coding. Save your notebook with parser code within the lab2 folder in your NLP git-repo."
      ]
    },
    {
      "cell_type": "code",
      "metadata": {
        "id": "JPdBpSeX4S21",
        "colab_type": "code",
        "colab": {
          "base_uri": "https://localhost:8080/",
          "height": 204
        },
        "outputId": "66b7a279-944f-4bf3-e246-668124c290b4"
      },
      "source": [
        "homework_data = pd.read_excel('../content/words.xlsx', sheet_name='Sheet1')\n",
        "\n",
        "homework_data.head()"
      ],
      "execution_count": 21,
      "outputs": [
        {
          "output_type": "execute_result",
          "data": {
            "text/html": [
              "<div>\n",
              "<style scoped>\n",
              "    .dataframe tbody tr th:only-of-type {\n",
              "        vertical-align: middle;\n",
              "    }\n",
              "\n",
              "    .dataframe tbody tr th {\n",
              "        vertical-align: top;\n",
              "    }\n",
              "\n",
              "    .dataframe thead th {\n",
              "        text-align: right;\n",
              "    }\n",
              "</style>\n",
              "<table border=\"1\" class=\"dataframe\">\n",
              "  <thead>\n",
              "    <tr style=\"text-align: right;\">\n",
              "      <th></th>\n",
              "      <th>1</th>\n",
              "      <th>HYPONYM</th>\n",
              "    </tr>\n",
              "  </thead>\n",
              "  <tbody>\n",
              "    <tr>\n",
              "      <th>0</th>\n",
              "      <td>2</td>\n",
              "      <td>БУРОВАЯ</td>\n",
              "    </tr>\n",
              "    <tr>\n",
              "      <th>1</th>\n",
              "      <td>3</td>\n",
              "      <td>БУТОНЬЕРКА</td>\n",
              "    </tr>\n",
              "    <tr>\n",
              "      <th>2</th>\n",
              "      <td>4</td>\n",
              "      <td>БЮДЖЕТИРОВАНИЕ</td>\n",
              "    </tr>\n",
              "    <tr>\n",
              "      <th>3</th>\n",
              "      <td>5</td>\n",
              "      <td>БЯЗЬ</td>\n",
              "    </tr>\n",
              "    <tr>\n",
              "      <th>4</th>\n",
              "      <td>6</td>\n",
              "      <td>ВАЛЕНТИНКА</td>\n",
              "    </tr>\n",
              "  </tbody>\n",
              "</table>\n",
              "</div>"
            ],
            "text/plain": [
              "   1         HYPONYM\n",
              "0  2         БУРОВАЯ\n",
              "1  3      БУТОНЬЕРКА\n",
              "2  4  БЮДЖЕТИРОВАНИЕ\n",
              "3  5            БЯЗЬ\n",
              "4  6      ВАЛЕНТИНКА"
            ]
          },
          "metadata": {
            "tags": []
          },
          "execution_count": 21
        }
      ]
    },
    {
      "cell_type": "code",
      "metadata": {
        "id": "KY1TPU3B4YxV",
        "colab_type": "code",
        "colab": {
          "base_uri": "https://localhost:8080/",
          "height": 1000
        },
        "outputId": "f0236fea-8739-45b7-f787-d53554d5b05d"
      },
      "source": [
        "for word in list(homework_data['HYPONYM']):\n",
        "    print('Гиперонимы для слова: ', word)\n",
        "    print('\\n')\n",
        "    get_hyperonyms(word)\n",
        "    print('\\n\\n')"
      ],
      "execution_count": 22,
      "outputs": [
        {
          "output_type": "stream",
          "text": [
            "Гиперонимы для слова:  БУРОВАЯ\n",
            "\n",
            "\n",
            "Буровая установка или буровая — комплекс бурового оборудования и сооружении, предназначенных для бурения скважин. Состав узлов буровои установки, их конструкция определяется назначением скважины, условиями и способом бурения.\n",
            "\n",
            "Наземная буровая установка для разведки и разработки месторождении нефти и газа в общем виде включает следующее оборудование:\n",
            "\n",
            "Буровая вышка,\n",
            "Буровая лебедка,\n",
            "Система верхнего привода или ротор с вертлюгом,\n",
            "Буровои ключ\n",
            "Шпилевая катушка\n",
            "Буровые насосы,\n",
            "Емкости,\n",
            "Оборудование для приготовления бурового раствора,\n",
            "Оборудование очистки бурового раствора от шлама,\n",
            "Цементировочныи агрегат\n",
            "Противовыбросовое оборудование\n",
            "Мостки и склад хранения буровых труб, трубныи кран,\n",
            "Генератор для обеспечения работы электроприводов оборудования\n",
            "\n",
            "\n",
            "\n",
            "Гиперонимы для слова:  БУТОНЬЕРКА\n",
            "\n",
            "\n",
            "Бутоньерка (фр. boutonniere — цветок в петлице) — один или несколько цветков или бутонов (обычно гвоздики или розы) в петлице, аксессуар мужского костюма.\n",
            "Сеичас бутоньерку носят только редкие индивидуальности, подчеркивающие свои стиль. Во времена Французскои революции красная гвоздика в петлице дворян, поднимавшихся на эшафот, символизировала их бесстрашие. Начиная с 40-х годов XIX века красную гвоздику стали носить представители рабочего движения на политических демонстрациях, так называемых маевках, когда красные флаги были под запретом.\n",
            "В начале XX века бутоньерка стала опознавательным знаком праздных денди. Без цветка в петлице, например, не появлялся на публике Оскар Уаильд. В настоящее время бутоньерка встречается в праздничном мужском костюме (например, на свадебных торжествах, на танцевальных балах).\n",
            "Бутоньерка в женском гардеробе — маленькии одностороннии буке искусственных цветов и листьев из ткани, кожи и резины. Обычно имитируются ландыш, сирень, цикламен, фиалка, роза, хризантемы, нарциссы и тюльпаны.\n",
            "\n",
            "\n",
            "\n",
            "Гиперонимы для слова:  БЮДЖЕТИРОВАНИЕ\n",
            "\n",
            "\n",
            "Бюджетирование (англ. budgeting) — планирование и разработка бюджетов, деятельность в рамках этапа планирования бюджетного процесса, процедура составления и принятия бюджетов, одна из составляющих системы финансового управления, предназначенная для оптимального распределения ресурсов хозяиствующего субъекта во времени.\n",
            "\n",
            "\n",
            "\n",
            "Гиперонимы для слова:  БЯЗЬ\n",
            "\n",
            "\n",
            "Бязь (тюрк.  beyaz — белыи, отбеленныи, или араб. [bazz]‎) — хлопчатобумажная плотная ткань полотняного переплетения, бумажныи холст, бурметь. Бязь выпускается суровои (неотделаннои) и беленои, набивнои и гладкокрашенои. Беленая бязь обычно называется полотном. Есть мнение, что сатин или бязь обязательно изготавливаются из натурального хлопка. Однако это не так. В их состав могут входить как натуральные волокна, так и искусственные.\n",
            "Появилась в России в XVI веке, а в старину привозилась из Азии. Использовалась для опашнеи, кафтанов и другои верхнеи одежды как подкладка. В XVIII—XX веках отбеленная бязь служила для пошива нижнего солдатского белья, так как была дешевле миткаля. Гладкокрашеную бязь использовали для подкладки и дублирования костюмных и пальтовых тканеи, набивную — для женских и детских легких платьев.\n",
            "В настоящее время бязь — основнои вид тканеи для пошива постельного белья. Бязевое белье, по свидетельству хозяек, выдерживает «бесконечное» число стирок, к тому же стоит сравнительно недорого. В зависимости от плотности плетения, из бязи можно делать как парадные, так и повседневные гарнитуры. Последние, благодаря своеи практичности, пользуются большим спросом в России. По этим показателям с бязью сравнима только смесь хлопка с полиэстером.\n",
            "Стоит также отметить такие своиства бязи, как:\n",
            "\n",
            "гигиеничность\n",
            "экологическая чистота\n",
            "легкость\n",
            "способность на долгие годы сохранять яркость рисунка\n",
            "низкая сминаемость\n",
            "\n",
            "\n",
            "\n",
            "Гиперонимы для слова:  ВАЛЕНТИНКА\n",
            "\n",
            "\n",
            "Валентинка — обычно открытка, в форме сердца, которую принято дарить любимым людям в День святого Валентина.\n",
            "Традиционныи цвет валентинки — красныи или розовыи. Они символизируют любовь и преданность.\n",
            "Самая старая валентинка была наидена в однои из англииских библиотек. Она была написана в 1477 году. В любовном послании девушка просит молодого человека доказать свою любовь и сообщает, что она во что бы то ни стало добьется для них приданого от матери.\n",
            "\n",
            "\n",
            "\n",
            "Гиперонимы для слова:  ВАЛТОРНИСТ\n",
            "\n",
            "\n",
            "Валторна (нем. Waldhorn — леснои рог, итал. corno, фр. cor, англ. French horn) — медныи духовои музыкальныи инструмент тенорового регистра.\n",
            "Произошла от охотничьего сигнального рога, в оркестр вошла в середине XVII века. До 1830-х годов, подобно другим медным инструментам, не имела вентилеи и была натуральным инструментом с ограниченным звукорядом (так называемая «натуральная валторна», которую использовали еще в классическои и барочнои музыке, в том числе Бах, Моцарт, Бетховен).\n",
            "\n",
            "\n",
            "\n",
            "Гиперонимы для слова:  ВАЛЬДШНЕП\n",
            "\n",
            "\n",
            "Вальдшнеп (лат. Scolopax rusticola) — вид птиц семеиства бекасовых, гнездящиися в умеренном и субарктическом поясе Евразии. На большеи части ареала перелетная птица, ведет скрытныи ночнои образ жизни. Основнои биотоп — старые влажные лиственные или смешанные леса с пустошами и перелесками. Обычно ведет одиночныи образ жизни, хотя иногда сбивается в небольшие свободные группы. Объект спортивнои охоты.\n",
            "Русское название имеет немецкое происхождение и аналогично слову Waldschnepfe (буквально «леснои кулик»). Словарь Даля также приводит и другие синонимы названия птицы, в настоящее время используемые редко — боровои кулик, слука, крехтун, березовик, боровик и красныи кулик.\n",
            "\n",
            "\n",
            "\n",
            "Гиперонимы для слова:  ВАЛЬЦОВЩИК\n",
            "\n",
            "\n",
            "Вальцовка (вальцевание) — технологическая операция деформирования листового материала (например, жести) вдоль некоторого направления или радиального деформирования трубы. Часто, особенно в промышленных масштабах, вальцовка листов осуществляется в ковочных вальцах, а труб — с помощью специального инструмента — вальцовки, откуда и произошло название даннои операции. Обработке подвергаются любые пластичные металлы, резиновые смеси, пластмассы. С помощью вальцевания получают готовые детали, точные заготовки для штамповки и др.\n",
            "\n",
            "Вальцовка — инструмент, предназначенныи для радиального деформирования трубы в отверстии трубнои решетки (коллектора) теплообменного аппарата с целью создания прочно-герметичного соединения. Технологическии процесс закрепления труб с использованием вальцовок называется развальцовка.\n",
            "\n",
            "\n",
            "\n",
            "Гиперонимы для слова:  ВАННАЯ\n",
            "\n",
            "\n",
            "Ванная комната, ванная — помещение в квартире или жилом доме, предназначенное для купания или принятия душа. Обычно ванные комнаты оснащены ваннои и/или душем и раковинои и другими сантехническими приборами. Ванные комнаты в настоящее время часто оснащаются унитазами (что в России называется совмещенным санузлом), а также биде.\n",
            "\n",
            "\n",
            "\n",
            "Гиперонимы для слова:  ВАРИАТОР\n",
            "\n",
            "\n",
            "Вариатор (лат. variator «изменитель») — устроиство, передающее крутящии момент и способное плавно менять передаточное отношение в некотором диапазоне регулирования. Изменение передаточного отношения может производиться автоматически, по заданнои программе или вручную. В автомобилестроении имеет обозначение CVT (англ. Continuously Variable Transmission).\n",
            "Вариатор применяется в механизмах, машинах (агрегатах), где требуется бесступенчато изменять передаточное отношение: автомобилях, мотороллерах, снегоходах, квадроциклах, конвеиерах, металлорежущих станках, мешалках и др. В стационарных устроиствах вместо вариаторов обычно применяется регулируемыи электропривод. В некоторых вариаторах также применяются гидротрансформаторы.\n",
            "Диапазон регулирования (отношение наибольшего передаточного числа к наименьшему) обычно 3—6, реже 10—12.\n",
            "Бесступенчатые передачи нашли широкое применение в приводах скутеров. Трансмиссия состоит из вариатора, расположенного на коленчатом валу, приводного ремня и узла центробежнои муфты, соединеннои с парои скользящих дисков, и пружины натяжения ремня, расположеннои на валу главнои передачи. Обеспечивая достаточное охлаждение, использование прочных материалов и предотвращая попадание грязи внутрь коробки передач (например, песка), коробка передач может передавать очень высокую мощность и работать много десятков тысяч километров, после чего необходимо заменить изношенныи приводнои ремень и вариатор.\n",
            "Также было создано несколько мотоциклов, в которых использовалась бесступенчатая трансмиссия, однои из наиболее характерных моделеи является Aprilia Mana 850.\n",
            "В последних автомобильных решениях для автоматических коробок передач CVT для передачи крутящего момента используются специальные цепи с пластинами очень высокои прочности, расположенными поперек оси цепи. Они заменили клиновые ремни. Это решение используют, в частности, Audi, Honda, Mitsubishi, Nissan (Altima, Cube, Juke, Maxima, Micra, Murano, Note, Qashqai, Rogue, Sentra, Sunny, Tiida и др.), Сузуки и Тоиота.\n",
            "\n",
            "\n",
            "\n",
            "Гиперонимы для слова:  ВАСАБИ\n",
            "\n",
            "\n",
            "Васаби (яп. 山葵 или ワサヒ, от яп. 和佐比, [wasabi]), или Эвтрема японская (лат. Eutrema japonicum) — вид многолетних травянистых растении рода Эвтрема (Eutrema) семеиства Капустные (Brassicaceae). Приправа, изготавливаемая из его корневища, называется «васаби», используется в японскои кухне. Растение известно как «японскии хрен», но в деиствительности хреном не является, хотя и родственно ему (оба рода принадлежат к одному семеиству).\n",
            "\n",
            "\n",
            "\n",
            "Гиперонимы для слова:  ВАСИЛИСК\n",
            "\n",
            "\n",
            "Василиск (от др.-греч. βασιλισκος — царек; также лат. basiliscus, regulus, англ. basilisk, cockatrice ) — существо, упоминаемое в различных источниках.\n",
            "В Библии, по мнению ряда комментаторов, — одно из названии опаснои ядовитои змеи. Хотя точное отождествление затруднено, в тех или иных местах может обозначать кобру или гадюку.\n",
            "В «Естественнои истории» Плиния Старшего василиск — змея, наделенная мифическими чертами. В иных источниках — мифическии чудовищныи змеи. В частности, лужичане считали, что василиск — петух с крыльями дракона и хвостом ящерицы.\n",
            "\n",
            "\n",
            "\n",
            "Гиперонимы для слова:  ВАТИН\n",
            "\n",
            "\n",
            "Ватин — нетканое полотно, получаемое из хлопкового линта, ваты, вискозы, шерсти и даже отходов швеиного производства. Название происходит от французского слова ouatine («руно»), которым обозначали ватную ткань на сетчатои основе. Материал был первоначально создан в качестве дешевои замены для традиционных меховых подкладок. Ватин обладает малои плотностью, хорошими теплоизолирующими своиствами, благодаря чему нашел широкое применение в качестве утеплителя для рабочеи одежды, наполнителя мягкои мебели и матрасов. Теплостоиким ватином на шерстянои основе обтягивают гладильные доски. \n",
            "По способу изготовления ватин можно разделить на два типа: иглопробивнои и холстопрошивнои (или стеганныи). Во втором случае, волокна сшиваются параллельными стежками при помощи хлопчатобумажных ниток, на марлевои подкладке, что придает значительную износоустоичивость.\n",
            "\n",
            "\n",
            "\n",
            "Гиперонимы для слова:  ВАФЕЛЬНИЦА\n",
            "\n",
            "\n",
            "Вафельница — электроприбор для выпечки вафельных листов, применяемых для приготовления вафель. В современных вафельницах, которые изготавливаются как в бытовом, так и в промышленном варианте, нагрев производится посредством электрического тока, поэтому они могут также называться электровафельницами. Первоначально же нагрев вафельницы осуществлялся на открытом огне или в печи, и сама она представляла собои две чугунные плиты, соединенные петлеи друг с другом, к каждои из которых была прикреплена ручка.\n",
            "\n",
            "\n",
            "\n",
            "Гиперонимы для слова:  ВЕЙП\n",
            "\n",
            "\n"
          ],
          "name": "stdout"
        },
        {
          "output_type": "stream",
          "text": [
            "/usr/local/lib/python3.6/dist-packages/wikipedia/wikipedia.py:389: UserWarning: No parser was explicitly specified, so I'm using the best available HTML parser for this system (\"lxml\"). This usually isn't a problem, but if you run this code on another system, or in a different virtual environment, it may use a different parser and behave differently.\n",
            "\n",
            "The code that caused this warning is on line 389 of the file /usr/local/lib/python3.6/dist-packages/wikipedia/wikipedia.py. To get rid of this warning, pass the additional argument 'features=\"lxml\"' to the BeautifulSoup constructor.\n",
            "\n",
            "  lis = BeautifulSoup(html).find_all('li')\n"
          ],
          "name": "stderr"
        },
        {
          "output_type": "error",
          "ename": "DisambiguationError",
          "evalue": "ignored",
          "traceback": [
            "\u001b[0;31m---------------------------------------------------------------------------\u001b[0m",
            "\u001b[0;31mDisambiguationError\u001b[0m                       Traceback (most recent call last)",
            "\u001b[0;32m<ipython-input-22-dc79de270c94>\u001b[0m in \u001b[0;36m<module>\u001b[0;34m()\u001b[0m\n\u001b[1;32m      2\u001b[0m     \u001b[0mprint\u001b[0m\u001b[0;34m(\u001b[0m\u001b[0;34m'Гиперонимы для слова: '\u001b[0m\u001b[0;34m,\u001b[0m \u001b[0mword\u001b[0m\u001b[0;34m)\u001b[0m\u001b[0;34m\u001b[0m\u001b[0;34m\u001b[0m\u001b[0m\n\u001b[1;32m      3\u001b[0m     \u001b[0mprint\u001b[0m\u001b[0;34m(\u001b[0m\u001b[0;34m'\\n'\u001b[0m\u001b[0;34m)\u001b[0m\u001b[0;34m\u001b[0m\u001b[0;34m\u001b[0m\u001b[0m\n\u001b[0;32m----> 4\u001b[0;31m     \u001b[0mget_hyperonyms\u001b[0m\u001b[0;34m(\u001b[0m\u001b[0mword\u001b[0m\u001b[0;34m)\u001b[0m\u001b[0;34m\u001b[0m\u001b[0;34m\u001b[0m\u001b[0m\n\u001b[0m\u001b[1;32m      5\u001b[0m     \u001b[0mprint\u001b[0m\u001b[0;34m(\u001b[0m\u001b[0;34m'\\n\\n'\u001b[0m\u001b[0;34m)\u001b[0m\u001b[0;34m\u001b[0m\u001b[0;34m\u001b[0m\u001b[0m\n",
            "\u001b[0;32m<ipython-input-20-f5646b675834>\u001b[0m in \u001b[0;36mget_hyperonyms\u001b[0;34m(main_word)\u001b[0m\n\u001b[1;32m      8\u001b[0m     )\n\u001b[1;32m      9\u001b[0m     \u001b[0mparser\u001b[0m \u001b[0;34m=\u001b[0m \u001b[0mParser\u001b[0m\u001b[0;34m(\u001b[0m\u001b[0mRULE\u001b[0m\u001b[0;34m)\u001b[0m\u001b[0;34m\u001b[0m\u001b[0;34m\u001b[0m\u001b[0m\n\u001b[0;32m---> 10\u001b[0;31m     \u001b[0mtext\u001b[0m \u001b[0;34m=\u001b[0m \u001b[0mutils\u001b[0m\u001b[0;34m.\u001b[0m\u001b[0mdeaccent\u001b[0m\u001b[0;34m(\u001b[0m\u001b[0mwikipedia\u001b[0m\u001b[0;34m.\u001b[0m\u001b[0msummary\u001b[0m\u001b[0;34m(\u001b[0m\u001b[0mmain_word\u001b[0m\u001b[0;34m)\u001b[0m\u001b[0;34m)\u001b[0m\u001b[0;34m\u001b[0m\u001b[0;34m\u001b[0m\u001b[0m\n\u001b[0m\u001b[1;32m     11\u001b[0m     \u001b[0mprint\u001b[0m\u001b[0;34m(\u001b[0m\u001b[0mtext\u001b[0m\u001b[0;34m)\u001b[0m\u001b[0;34m\u001b[0m\u001b[0;34m\u001b[0m\u001b[0m\n\u001b[1;32m     12\u001b[0m     \u001b[0mtext\u001b[0m \u001b[0;34m=\u001b[0m \u001b[0mre\u001b[0m\u001b[0;34m.\u001b[0m\u001b[0msub\u001b[0m\u001b[0;34m(\u001b[0m\u001b[0;34mr'\\(.+?\\)'\u001b[0m\u001b[0;34m,\u001b[0m \u001b[0;34m''\u001b[0m\u001b[0;34m,\u001b[0m \u001b[0mtext\u001b[0m\u001b[0;34m)\u001b[0m\u001b[0;34m\u001b[0m\u001b[0;34m\u001b[0m\u001b[0m\n",
            "\u001b[0;32m/usr/local/lib/python3.6/dist-packages/wikipedia/util.py\u001b[0m in \u001b[0;36m__call__\u001b[0;34m(self, *args, **kwargs)\u001b[0m\n\u001b[1;32m     26\u001b[0m       \u001b[0mret\u001b[0m \u001b[0;34m=\u001b[0m \u001b[0mself\u001b[0m\u001b[0;34m.\u001b[0m\u001b[0m_cache\u001b[0m\u001b[0;34m[\u001b[0m\u001b[0mkey\u001b[0m\u001b[0;34m]\u001b[0m\u001b[0;34m\u001b[0m\u001b[0;34m\u001b[0m\u001b[0m\n\u001b[1;32m     27\u001b[0m     \u001b[0;32melse\u001b[0m\u001b[0;34m:\u001b[0m\u001b[0;34m\u001b[0m\u001b[0;34m\u001b[0m\u001b[0m\n\u001b[0;32m---> 28\u001b[0;31m       \u001b[0mret\u001b[0m \u001b[0;34m=\u001b[0m \u001b[0mself\u001b[0m\u001b[0;34m.\u001b[0m\u001b[0m_cache\u001b[0m\u001b[0;34m[\u001b[0m\u001b[0mkey\u001b[0m\u001b[0;34m]\u001b[0m \u001b[0;34m=\u001b[0m \u001b[0mself\u001b[0m\u001b[0;34m.\u001b[0m\u001b[0mfn\u001b[0m\u001b[0;34m(\u001b[0m\u001b[0;34m*\u001b[0m\u001b[0margs\u001b[0m\u001b[0;34m,\u001b[0m \u001b[0;34m**\u001b[0m\u001b[0mkwargs\u001b[0m\u001b[0;34m)\u001b[0m\u001b[0;34m\u001b[0m\u001b[0;34m\u001b[0m\u001b[0m\n\u001b[0m\u001b[1;32m     29\u001b[0m \u001b[0;34m\u001b[0m\u001b[0m\n\u001b[1;32m     30\u001b[0m     \u001b[0;32mreturn\u001b[0m \u001b[0mret\u001b[0m\u001b[0;34m\u001b[0m\u001b[0;34m\u001b[0m\u001b[0m\n",
            "\u001b[0;32m/usr/local/lib/python3.6/dist-packages/wikipedia/wikipedia.py\u001b[0m in \u001b[0;36msummary\u001b[0;34m(title, sentences, chars, auto_suggest, redirect)\u001b[0m\n\u001b[1;32m    229\u001b[0m   \u001b[0;31m# use auto_suggest and redirect to get the correct article\u001b[0m\u001b[0;34m\u001b[0m\u001b[0;34m\u001b[0m\u001b[0;34m\u001b[0m\u001b[0m\n\u001b[1;32m    230\u001b[0m   \u001b[0;31m# also, use page's error checking to raise DisambiguationError if necessary\u001b[0m\u001b[0;34m\u001b[0m\u001b[0;34m\u001b[0m\u001b[0;34m\u001b[0m\u001b[0m\n\u001b[0;32m--> 231\u001b[0;31m   \u001b[0mpage_info\u001b[0m \u001b[0;34m=\u001b[0m \u001b[0mpage\u001b[0m\u001b[0;34m(\u001b[0m\u001b[0mtitle\u001b[0m\u001b[0;34m,\u001b[0m \u001b[0mauto_suggest\u001b[0m\u001b[0;34m=\u001b[0m\u001b[0mauto_suggest\u001b[0m\u001b[0;34m,\u001b[0m \u001b[0mredirect\u001b[0m\u001b[0;34m=\u001b[0m\u001b[0mredirect\u001b[0m\u001b[0;34m)\u001b[0m\u001b[0;34m\u001b[0m\u001b[0;34m\u001b[0m\u001b[0m\n\u001b[0m\u001b[1;32m    232\u001b[0m   \u001b[0mtitle\u001b[0m \u001b[0;34m=\u001b[0m \u001b[0mpage_info\u001b[0m\u001b[0;34m.\u001b[0m\u001b[0mtitle\u001b[0m\u001b[0;34m\u001b[0m\u001b[0;34m\u001b[0m\u001b[0m\n\u001b[1;32m    233\u001b[0m   \u001b[0mpageid\u001b[0m \u001b[0;34m=\u001b[0m \u001b[0mpage_info\u001b[0m\u001b[0;34m.\u001b[0m\u001b[0mpageid\u001b[0m\u001b[0;34m\u001b[0m\u001b[0;34m\u001b[0m\u001b[0m\n",
            "\u001b[0;32m/usr/local/lib/python3.6/dist-packages/wikipedia/wikipedia.py\u001b[0m in \u001b[0;36mpage\u001b[0;34m(title, pageid, auto_suggest, redirect, preload)\u001b[0m\n\u001b[1;32m    274\u001b[0m         \u001b[0;31m# if there is no suggestion or search results, the page doesn't exist\u001b[0m\u001b[0;34m\u001b[0m\u001b[0;34m\u001b[0m\u001b[0;34m\u001b[0m\u001b[0m\n\u001b[1;32m    275\u001b[0m         \u001b[0;32mraise\u001b[0m \u001b[0mPageError\u001b[0m\u001b[0;34m(\u001b[0m\u001b[0mtitle\u001b[0m\u001b[0;34m)\u001b[0m\u001b[0;34m\u001b[0m\u001b[0;34m\u001b[0m\u001b[0m\n\u001b[0;32m--> 276\u001b[0;31m     \u001b[0;32mreturn\u001b[0m \u001b[0mWikipediaPage\u001b[0m\u001b[0;34m(\u001b[0m\u001b[0mtitle\u001b[0m\u001b[0;34m,\u001b[0m \u001b[0mredirect\u001b[0m\u001b[0;34m=\u001b[0m\u001b[0mredirect\u001b[0m\u001b[0;34m,\u001b[0m \u001b[0mpreload\u001b[0m\u001b[0;34m=\u001b[0m\u001b[0mpreload\u001b[0m\u001b[0;34m)\u001b[0m\u001b[0;34m\u001b[0m\u001b[0;34m\u001b[0m\u001b[0m\n\u001b[0m\u001b[1;32m    277\u001b[0m   \u001b[0;32melif\u001b[0m \u001b[0mpageid\u001b[0m \u001b[0;32mis\u001b[0m \u001b[0;32mnot\u001b[0m \u001b[0;32mNone\u001b[0m\u001b[0;34m:\u001b[0m\u001b[0;34m\u001b[0m\u001b[0;34m\u001b[0m\u001b[0m\n\u001b[1;32m    278\u001b[0m     \u001b[0;32mreturn\u001b[0m \u001b[0mWikipediaPage\u001b[0m\u001b[0;34m(\u001b[0m\u001b[0mpageid\u001b[0m\u001b[0;34m=\u001b[0m\u001b[0mpageid\u001b[0m\u001b[0;34m,\u001b[0m \u001b[0mpreload\u001b[0m\u001b[0;34m=\u001b[0m\u001b[0mpreload\u001b[0m\u001b[0;34m)\u001b[0m\u001b[0;34m\u001b[0m\u001b[0;34m\u001b[0m\u001b[0m\n",
            "\u001b[0;32m/usr/local/lib/python3.6/dist-packages/wikipedia/wikipedia.py\u001b[0m in \u001b[0;36m__init__\u001b[0;34m(self, title, pageid, redirect, preload, original_title)\u001b[0m\n\u001b[1;32m    297\u001b[0m       \u001b[0;32mraise\u001b[0m \u001b[0mValueError\u001b[0m\u001b[0;34m(\u001b[0m\u001b[0;34m\"Either a title or a pageid must be specified\"\u001b[0m\u001b[0;34m)\u001b[0m\u001b[0;34m\u001b[0m\u001b[0;34m\u001b[0m\u001b[0m\n\u001b[1;32m    298\u001b[0m \u001b[0;34m\u001b[0m\u001b[0m\n\u001b[0;32m--> 299\u001b[0;31m     \u001b[0mself\u001b[0m\u001b[0;34m.\u001b[0m\u001b[0m__load\u001b[0m\u001b[0;34m(\u001b[0m\u001b[0mredirect\u001b[0m\u001b[0;34m=\u001b[0m\u001b[0mredirect\u001b[0m\u001b[0;34m,\u001b[0m \u001b[0mpreload\u001b[0m\u001b[0;34m=\u001b[0m\u001b[0mpreload\u001b[0m\u001b[0;34m)\u001b[0m\u001b[0;34m\u001b[0m\u001b[0;34m\u001b[0m\u001b[0m\n\u001b[0m\u001b[1;32m    300\u001b[0m \u001b[0;34m\u001b[0m\u001b[0m\n\u001b[1;32m    301\u001b[0m     \u001b[0;32mif\u001b[0m \u001b[0mpreload\u001b[0m\u001b[0;34m:\u001b[0m\u001b[0;34m\u001b[0m\u001b[0;34m\u001b[0m\u001b[0m\n",
            "\u001b[0;32m/usr/local/lib/python3.6/dist-packages/wikipedia/wikipedia.py\u001b[0m in \u001b[0;36m__load\u001b[0;34m(self, redirect, preload)\u001b[0m\n\u001b[1;32m    391\u001b[0m       \u001b[0mmay_refer_to\u001b[0m \u001b[0;34m=\u001b[0m \u001b[0;34m[\u001b[0m\u001b[0mli\u001b[0m\u001b[0;34m.\u001b[0m\u001b[0ma\u001b[0m\u001b[0;34m.\u001b[0m\u001b[0mget_text\u001b[0m\u001b[0;34m(\u001b[0m\u001b[0;34m)\u001b[0m \u001b[0;32mfor\u001b[0m \u001b[0mli\u001b[0m \u001b[0;32min\u001b[0m \u001b[0mfiltered_lis\u001b[0m \u001b[0;32mif\u001b[0m \u001b[0mli\u001b[0m\u001b[0;34m.\u001b[0m\u001b[0ma\u001b[0m\u001b[0;34m]\u001b[0m\u001b[0;34m\u001b[0m\u001b[0;34m\u001b[0m\u001b[0m\n\u001b[1;32m    392\u001b[0m \u001b[0;34m\u001b[0m\u001b[0m\n\u001b[0;32m--> 393\u001b[0;31m       \u001b[0;32mraise\u001b[0m \u001b[0mDisambiguationError\u001b[0m\u001b[0;34m(\u001b[0m\u001b[0mgetattr\u001b[0m\u001b[0;34m(\u001b[0m\u001b[0mself\u001b[0m\u001b[0;34m,\u001b[0m \u001b[0;34m'title'\u001b[0m\u001b[0;34m,\u001b[0m \u001b[0mpage\u001b[0m\u001b[0;34m[\u001b[0m\u001b[0;34m'title'\u001b[0m\u001b[0;34m]\u001b[0m\u001b[0;34m)\u001b[0m\u001b[0;34m,\u001b[0m \u001b[0mmay_refer_to\u001b[0m\u001b[0;34m)\u001b[0m\u001b[0;34m\u001b[0m\u001b[0;34m\u001b[0m\u001b[0m\n\u001b[0m\u001b[1;32m    394\u001b[0m \u001b[0;34m\u001b[0m\u001b[0m\n\u001b[1;32m    395\u001b[0m     \u001b[0;32melse\u001b[0m\u001b[0;34m:\u001b[0m\u001b[0;34m\u001b[0m\u001b[0;34m\u001b[0m\u001b[0m\n",
            "\u001b[0;31mDisambiguationError\u001b[0m: \"вейк\" may refer to: \nВейк, Карл\nВейк, Николас ван\nВейк, Рюбен ван\nВейк, Томас\nВан Вейк\n↑"
          ]
        }
      ]
    }
  ]
}